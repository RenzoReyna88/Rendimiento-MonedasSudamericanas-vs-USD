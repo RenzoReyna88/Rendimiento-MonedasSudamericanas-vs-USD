{
 "cells": [
  {
   "cell_type": "markdown",
   "id": "645f3d04",
   "metadata": {},
   "source": [
    "## Análisis financiero: Evolución en el valor de monedas de países Sudamericano frente al dólar Estadounidense durante los últimos 20 Años\n",
    "\n",
    "### Autor: Renzo Reyna\n",
    "\n",
    "#### Analista de Datos / Desarrollador Pyhton \n",
    "\n",
    "\n",
    "#### Fuente de datos: Yahoo Finance"
   ]
  },
  {
   "cell_type": "code",
   "execution_count": 1,
   "id": "657c514e",
   "metadata": {},
   "outputs": [],
   "source": [
    "import yfinance as yf\n",
    "import datetime\n",
    "import pandas as pd\n",
    "import numpy as np\n",
    "import matplotlib.pyplot as plt\n",
    "import seaborn as sns\n",
    "import plotly.graph_objs as go"
   ]
  },
  {
   "cell_type": "code",
   "execution_count": 2,
   "id": "36c0e494",
   "metadata": {},
   "outputs": [],
   "source": [
    "start= datetime.datetime(2004, 8, 11)\n",
    "end= datetime.datetime(2024, 12, 30)"
   ]
  },
  {
   "cell_type": "code",
   "execution_count": 3,
   "id": "d8f7b3fb",
   "metadata": {},
   "outputs": [
    {
     "name": "stderr",
     "output_type": "stream",
     "text": [
      "[*********************100%***********************]  1 of 1 completed"
     ]
    },
    {
     "name": "stdout",
     "output_type": "stream",
     "text": [
      "Price          Close      High       Low      Open   Volume\n",
      "Ticker      ARSUSD=X  ARSUSD=X  ARSUSD=X  ARSUSD=X ARSUSD=X\n",
      "Date                                                       \n",
      "2004-08-11  0.335458  0.335458  0.335458  0.335458        0\n",
      "2004-08-12  0.334806  0.334806  0.334806  0.334806        0\n",
      "2004-08-13  0.336304  0.336304  0.333667  0.333667        0\n",
      "2004-08-16  0.335920  0.335920  0.335920  0.335920        0\n",
      "2004-08-17  0.335694  0.335694  0.335694  0.335694        0\n",
      "2004-08-18  0.343065  0.343065  0.343065  0.343065        0\n"
     ]
    },
    {
     "name": "stderr",
     "output_type": "stream",
     "text": [
      "\n"
     ]
    }
   ],
   "source": [
    "# Lectura de datos para el peso Argentino\n",
    "ars_value = yf.download('ARSUSD=X', start=start, end=end)\n",
    "print(ars_value.head(6))"
   ]
  },
  {
   "cell_type": "code",
   "execution_count": 4,
   "id": "18eabc0a",
   "metadata": {},
   "outputs": [
    {
     "data": {
      "text/html": [
       "<div>\n",
       "<style scoped>\n",
       "    .dataframe tbody tr th:only-of-type {\n",
       "        vertical-align: middle;\n",
       "    }\n",
       "\n",
       "    .dataframe tbody tr th {\n",
       "        vertical-align: top;\n",
       "    }\n",
       "\n",
       "    .dataframe thead tr th {\n",
       "        text-align: left;\n",
       "    }\n",
       "</style>\n",
       "<table border=\"1\" class=\"dataframe\">\n",
       "  <thead>\n",
       "    <tr>\n",
       "      <th>Price</th>\n",
       "      <th>Date</th>\n",
       "      <th>Close</th>\n",
       "      <th>High</th>\n",
       "      <th>Low</th>\n",
       "      <th>Open</th>\n",
       "      <th>Volume</th>\n",
       "    </tr>\n",
       "    <tr>\n",
       "      <th>Ticker</th>\n",
       "      <th></th>\n",
       "      <th>ARSUSD=X</th>\n",
       "      <th>ARSUSD=X</th>\n",
       "      <th>ARSUSD=X</th>\n",
       "      <th>ARSUSD=X</th>\n",
       "      <th>ARSUSD=X</th>\n",
       "    </tr>\n",
       "  </thead>\n",
       "  <tbody>\n",
       "    <tr>\n",
       "      <th>0</th>\n",
       "      <td>2004-08-11</td>\n",
       "      <td>0.335458</td>\n",
       "      <td>0.335458</td>\n",
       "      <td>0.335458</td>\n",
       "      <td>0.335458</td>\n",
       "      <td>0</td>\n",
       "    </tr>\n",
       "    <tr>\n",
       "      <th>1</th>\n",
       "      <td>2004-08-12</td>\n",
       "      <td>0.334806</td>\n",
       "      <td>0.334806</td>\n",
       "      <td>0.334806</td>\n",
       "      <td>0.334806</td>\n",
       "      <td>0</td>\n",
       "    </tr>\n",
       "    <tr>\n",
       "      <th>2</th>\n",
       "      <td>2004-08-13</td>\n",
       "      <td>0.336304</td>\n",
       "      <td>0.336304</td>\n",
       "      <td>0.333667</td>\n",
       "      <td>0.333667</td>\n",
       "      <td>0</td>\n",
       "    </tr>\n",
       "    <tr>\n",
       "      <th>3</th>\n",
       "      <td>2004-08-16</td>\n",
       "      <td>0.335920</td>\n",
       "      <td>0.335920</td>\n",
       "      <td>0.335920</td>\n",
       "      <td>0.335920</td>\n",
       "      <td>0</td>\n",
       "    </tr>\n",
       "    <tr>\n",
       "      <th>4</th>\n",
       "      <td>2004-08-17</td>\n",
       "      <td>0.335694</td>\n",
       "      <td>0.335694</td>\n",
       "      <td>0.335694</td>\n",
       "      <td>0.335694</td>\n",
       "      <td>0</td>\n",
       "    </tr>\n",
       "    <tr>\n",
       "      <th>...</th>\n",
       "      <td>...</td>\n",
       "      <td>...</td>\n",
       "      <td>...</td>\n",
       "      <td>...</td>\n",
       "      <td>...</td>\n",
       "      <td>...</td>\n",
       "    </tr>\n",
       "    <tr>\n",
       "      <th>5305</th>\n",
       "      <td>2024-12-23</td>\n",
       "      <td>0.000982</td>\n",
       "      <td>0.000984</td>\n",
       "      <td>0.000975</td>\n",
       "      <td>0.000982</td>\n",
       "      <td>0</td>\n",
       "    </tr>\n",
       "    <tr>\n",
       "      <th>5306</th>\n",
       "      <td>2024-12-24</td>\n",
       "      <td>0.000975</td>\n",
       "      <td>0.000975</td>\n",
       "      <td>0.000975</td>\n",
       "      <td>0.000975</td>\n",
       "      <td>0</td>\n",
       "    </tr>\n",
       "    <tr>\n",
       "      <th>5307</th>\n",
       "      <td>2024-12-25</td>\n",
       "      <td>0.000975</td>\n",
       "      <td>0.000978</td>\n",
       "      <td>0.000972</td>\n",
       "      <td>0.000975</td>\n",
       "      <td>0</td>\n",
       "    </tr>\n",
       "    <tr>\n",
       "      <th>5308</th>\n",
       "      <td>2024-12-26</td>\n",
       "      <td>0.000975</td>\n",
       "      <td>0.000977</td>\n",
       "      <td>0.000974</td>\n",
       "      <td>0.000975</td>\n",
       "      <td>0</td>\n",
       "    </tr>\n",
       "    <tr>\n",
       "      <th>5309</th>\n",
       "      <td>2024-12-27</td>\n",
       "      <td>0.000977</td>\n",
       "      <td>0.000977</td>\n",
       "      <td>0.000972</td>\n",
       "      <td>0.000977</td>\n",
       "      <td>0</td>\n",
       "    </tr>\n",
       "  </tbody>\n",
       "</table>\n",
       "<p>5310 rows × 6 columns</p>\n",
       "</div>"
      ],
      "text/plain": [
       "Price        Date     Close      High       Low      Open   Volume\n",
       "Ticker             ARSUSD=X  ARSUSD=X  ARSUSD=X  ARSUSD=X ARSUSD=X\n",
       "0      2004-08-11  0.335458  0.335458  0.335458  0.335458        0\n",
       "1      2004-08-12  0.334806  0.334806  0.334806  0.334806        0\n",
       "2      2004-08-13  0.336304  0.336304  0.333667  0.333667        0\n",
       "3      2004-08-16  0.335920  0.335920  0.335920  0.335920        0\n",
       "4      2004-08-17  0.335694  0.335694  0.335694  0.335694        0\n",
       "...           ...       ...       ...       ...       ...      ...\n",
       "5305   2024-12-23  0.000982  0.000984  0.000975  0.000982        0\n",
       "5306   2024-12-24  0.000975  0.000975  0.000975  0.000975        0\n",
       "5307   2024-12-25  0.000975  0.000978  0.000972  0.000975        0\n",
       "5308   2024-12-26  0.000975  0.000977  0.000974  0.000975        0\n",
       "5309   2024-12-27  0.000977  0.000977  0.000972  0.000977        0\n",
       "\n",
       "[5310 rows x 6 columns]"
      ]
     },
     "execution_count": 4,
     "metadata": {},
     "output_type": "execute_result"
    }
   ],
   "source": [
    "df_ars= pd.DataFrame(ars_value)\n",
    "\n",
    "df_ars.reset_index(inplace= True)\n",
    "\n",
    "df_ars"
   ]
  },
  {
   "cell_type": "code",
   "execution_count": 5,
   "id": "852f7824",
   "metadata": {},
   "outputs": [
    {
     "name": "stdout",
     "output_type": "stream",
     "text": [
      "<class 'pandas.core.frame.DataFrame'>\n",
      "RangeIndex: 5310 entries, 0 to 5309\n",
      "Data columns (total 6 columns):\n",
      " #   Column              Non-Null Count  Dtype         \n",
      "---  ------              --------------  -----         \n",
      " 0   (Date, )            5310 non-null   datetime64[ns]\n",
      " 1   (Close, ARSUSD=X)   5310 non-null   float64       \n",
      " 2   (High, ARSUSD=X)    5310 non-null   float64       \n",
      " 3   (Low, ARSUSD=X)     5310 non-null   float64       \n",
      " 4   (Open, ARSUSD=X)    5310 non-null   float64       \n",
      " 5   (Volume, ARSUSD=X)  5310 non-null   int64         \n",
      "dtypes: datetime64[ns](1), float64(4), int64(1)\n",
      "memory usage: 249.0 KB\n"
     ]
    }
   ],
   "source": [
    "df_ars.info()"
   ]
  },
  {
   "cell_type": "code",
   "execution_count": 6,
   "id": "1d3e4d69",
   "metadata": {},
   "outputs": [],
   "source": [
    "df_argentina= df_ars[['Date', 'Close']]\n",
    "\n",
    "df_argentina= df_argentina.copy()"
   ]
  },
  {
   "cell_type": "code",
   "execution_count": 7,
   "id": "e73ccbae",
   "metadata": {},
   "outputs": [
    {
     "data": {
      "text/html": [
       "<div>\n",
       "<style scoped>\n",
       "    .dataframe tbody tr th:only-of-type {\n",
       "        vertical-align: middle;\n",
       "    }\n",
       "\n",
       "    .dataframe tbody tr th {\n",
       "        vertical-align: top;\n",
       "    }\n",
       "\n",
       "    .dataframe thead tr th {\n",
       "        text-align: left;\n",
       "    }\n",
       "</style>\n",
       "<table border=\"1\" class=\"dataframe\">\n",
       "  <thead>\n",
       "    <tr>\n",
       "      <th>Price</th>\n",
       "      <th>Período analizado</th>\n",
       "      <th>Valor de conversión</th>\n",
       "    </tr>\n",
       "    <tr>\n",
       "      <th>Ticker</th>\n",
       "      <th></th>\n",
       "      <th>ARSUSD=X</th>\n",
       "    </tr>\n",
       "  </thead>\n",
       "  <tbody>\n",
       "    <tr>\n",
       "      <th>0</th>\n",
       "      <td>2004-08-11</td>\n",
       "      <td>0.335458</td>\n",
       "    </tr>\n",
       "    <tr>\n",
       "      <th>1</th>\n",
       "      <td>2004-08-12</td>\n",
       "      <td>0.334806</td>\n",
       "    </tr>\n",
       "    <tr>\n",
       "      <th>2</th>\n",
       "      <td>2004-08-13</td>\n",
       "      <td>0.336304</td>\n",
       "    </tr>\n",
       "    <tr>\n",
       "      <th>3</th>\n",
       "      <td>2004-08-16</td>\n",
       "      <td>0.335920</td>\n",
       "    </tr>\n",
       "    <tr>\n",
       "      <th>4</th>\n",
       "      <td>2004-08-17</td>\n",
       "      <td>0.335694</td>\n",
       "    </tr>\n",
       "    <tr>\n",
       "      <th>...</th>\n",
       "      <td>...</td>\n",
       "      <td>...</td>\n",
       "    </tr>\n",
       "    <tr>\n",
       "      <th>5305</th>\n",
       "      <td>2024-12-23</td>\n",
       "      <td>0.000982</td>\n",
       "    </tr>\n",
       "    <tr>\n",
       "      <th>5306</th>\n",
       "      <td>2024-12-24</td>\n",
       "      <td>0.000975</td>\n",
       "    </tr>\n",
       "    <tr>\n",
       "      <th>5307</th>\n",
       "      <td>2024-12-25</td>\n",
       "      <td>0.000975</td>\n",
       "    </tr>\n",
       "    <tr>\n",
       "      <th>5308</th>\n",
       "      <td>2024-12-26</td>\n",
       "      <td>0.000975</td>\n",
       "    </tr>\n",
       "    <tr>\n",
       "      <th>5309</th>\n",
       "      <td>2024-12-27</td>\n",
       "      <td>0.000977</td>\n",
       "    </tr>\n",
       "  </tbody>\n",
       "</table>\n",
       "<p>5310 rows × 2 columns</p>\n",
       "</div>"
      ],
      "text/plain": [
       "Price  Período analizado Valor de conversión\n",
       "Ticker                              ARSUSD=X\n",
       "0             2004-08-11            0.335458\n",
       "1             2004-08-12            0.334806\n",
       "2             2004-08-13            0.336304\n",
       "3             2004-08-16            0.335920\n",
       "4             2004-08-17            0.335694\n",
       "...                  ...                 ...\n",
       "5305          2024-12-23            0.000982\n",
       "5306          2024-12-24            0.000975\n",
       "5307          2024-12-25            0.000975\n",
       "5308          2024-12-26            0.000975\n",
       "5309          2024-12-27            0.000977\n",
       "\n",
       "[5310 rows x 2 columns]"
      ]
     },
     "execution_count": 7,
     "metadata": {},
     "output_type": "execute_result"
    }
   ],
   "source": [
    "df_argentina.rename(columns={'Date':'Período analizado', 'Close':'Valor de conversión'}, inplace=True)\n",
    "\n",
    "df_argentina.iloc[5050:]\n",
    "\n",
    "# df_argentina.to_csv('PesoArgentino.csv', index=False, encoding='utf-8')\n",
    "\n",
    "\n",
    "df_argentina"
   ]
  },
  {
   "cell_type": "code",
   "execution_count": 8,
   "id": "911f23eb",
   "metadata": {},
   "outputs": [
    {
     "data": {
      "image/png": "[encoded data removed]",
      "text/plain": [
       "<Figure size 640x480 with 1 Axes>"
      ]
     },
     "metadata": {},
     "output_type": "display_data"
    },
    {
     "name": "stdout",
     "output_type": "stream",
     "text": [
      "Tasa de conversión promedio del Peso Argentino durante el período analizado: 0.1506606778568959\n"
     ]
    }
   ],
   "source": [
    "#Crear gráfico para tasa de conversión del peso Argentino a Dólares USD \n",
    "# sns.set_theme(style=\"whitegrid\")\n",
    "\n",
    "plt.plot(df_argentina[\"Período analizado\"], df_argentina[\"Valor de conversión\"])\n",
    "\n",
    "plt.title(\"Valor del Peso Argentino en USD\")\n",
    "\n",
    "plt.show()\n",
    "\n",
    "print(\"Tasa de conversión promedio del Peso Argentino durante el período analizado:\", np.mean(df_argentina[\"Valor de conversión\"]))"
   ]
  },
  {
   "cell_type": "code",
   "execution_count": 9,
   "id": "7594efb4",
   "metadata": {},
   "outputs": [
    {
     "name": "stderr",
     "output_type": "stream",
     "text": [
      "[*********************100%***********************]  1 of 1 completed"
     ]
    },
    {
     "name": "stdout",
     "output_type": "stream",
     "text": [
      "Price          Close      High       Low      Open   Volume\n",
      "Ticker      BRLUSD=X  BRLUSD=X  BRLUSD=X  BRLUSD=X BRLUSD=X\n",
      "Date                                                       \n",
      "2004-08-11  0.329489  0.330360  0.328947  0.330360        0\n",
      "2004-08-12  0.329598  0.330469  0.329489  0.329489        0\n",
      "2004-08-13  0.331235  0.331455  0.329272  0.329598        0\n",
      "2004-08-16  0.332668  0.332779  0.330469  0.331235        0\n",
      "2004-08-17  0.334001  0.334113  0.332668  0.332668        0\n",
      "2004-08-18  0.335345  0.335796  0.332889  0.334001        0\n"
     ]
    },
    {
     "name": "stderr",
     "output_type": "stream",
     "text": [
      "\n"
     ]
    }
   ],
   "source": [
    "# Lectura de Datos para moneda de brasil\n",
    "bra_value= yf.download('BRLUSD=X', start=start, end=end)\n",
    "print(bra_value.head(6))"
   ]
  },
  {
   "cell_type": "code",
   "execution_count": 10,
   "id": "aca1ef63",
   "metadata": {},
   "outputs": [
    {
     "data": {
      "text/html": [
       "<div>\n",
       "<style scoped>\n",
       "    .dataframe tbody tr th:only-of-type {\n",
       "        vertical-align: middle;\n",
       "    }\n",
       "\n",
       "    .dataframe tbody tr th {\n",
       "        vertical-align: top;\n",
       "    }\n",
       "\n",
       "    .dataframe thead tr th {\n",
       "        text-align: left;\n",
       "    }\n",
       "</style>\n",
       "<table border=\"1\" class=\"dataframe\">\n",
       "  <thead>\n",
       "    <tr>\n",
       "      <th>Price</th>\n",
       "      <th>Date</th>\n",
       "      <th>Close</th>\n",
       "      <th>High</th>\n",
       "      <th>Low</th>\n",
       "      <th>Open</th>\n",
       "      <th>Volume</th>\n",
       "    </tr>\n",
       "    <tr>\n",
       "      <th>Ticker</th>\n",
       "      <th></th>\n",
       "      <th>BRLUSD=X</th>\n",
       "      <th>BRLUSD=X</th>\n",
       "      <th>BRLUSD=X</th>\n",
       "      <th>BRLUSD=X</th>\n",
       "      <th>BRLUSD=X</th>\n",
       "    </tr>\n",
       "  </thead>\n",
       "  <tbody>\n",
       "    <tr>\n",
       "      <th>0</th>\n",
       "      <td>2004-08-11</td>\n",
       "      <td>0.329489</td>\n",
       "      <td>0.330360</td>\n",
       "      <td>0.328947</td>\n",
       "      <td>0.330360</td>\n",
       "      <td>0</td>\n",
       "    </tr>\n",
       "    <tr>\n",
       "      <th>1</th>\n",
       "      <td>2004-08-12</td>\n",
       "      <td>0.329598</td>\n",
       "      <td>0.330469</td>\n",
       "      <td>0.329489</td>\n",
       "      <td>0.329489</td>\n",
       "      <td>0</td>\n",
       "    </tr>\n",
       "    <tr>\n",
       "      <th>2</th>\n",
       "      <td>2004-08-13</td>\n",
       "      <td>0.331235</td>\n",
       "      <td>0.331455</td>\n",
       "      <td>0.329272</td>\n",
       "      <td>0.329598</td>\n",
       "      <td>0</td>\n",
       "    </tr>\n",
       "    <tr>\n",
       "      <th>3</th>\n",
       "      <td>2004-08-16</td>\n",
       "      <td>0.332668</td>\n",
       "      <td>0.332779</td>\n",
       "      <td>0.330469</td>\n",
       "      <td>0.331235</td>\n",
       "      <td>0</td>\n",
       "    </tr>\n",
       "    <tr>\n",
       "      <th>4</th>\n",
       "      <td>2004-08-17</td>\n",
       "      <td>0.334001</td>\n",
       "      <td>0.334113</td>\n",
       "      <td>0.332668</td>\n",
       "      <td>0.332668</td>\n",
       "      <td>0</td>\n",
       "    </tr>\n",
       "    <tr>\n",
       "      <th>...</th>\n",
       "      <td>...</td>\n",
       "      <td>...</td>\n",
       "      <td>...</td>\n",
       "      <td>...</td>\n",
       "      <td>...</td>\n",
       "      <td>...</td>\n",
       "    </tr>\n",
       "    <tr>\n",
       "      <th>4866</th>\n",
       "      <td>2024-12-23</td>\n",
       "      <td>0.164360</td>\n",
       "      <td>0.164781</td>\n",
       "      <td>0.161789</td>\n",
       "      <td>0.164360</td>\n",
       "      <td>0</td>\n",
       "    </tr>\n",
       "    <tr>\n",
       "      <th>4867</th>\n",
       "      <td>2024-12-24</td>\n",
       "      <td>0.161449</td>\n",
       "      <td>0.161773</td>\n",
       "      <td>0.160914</td>\n",
       "      <td>0.161449</td>\n",
       "      <td>0</td>\n",
       "    </tr>\n",
       "    <tr>\n",
       "      <th>4868</th>\n",
       "      <td>2024-12-25</td>\n",
       "      <td>0.161928</td>\n",
       "      <td>0.162110</td>\n",
       "      <td>0.155979</td>\n",
       "      <td>0.161928</td>\n",
       "      <td>0</td>\n",
       "    </tr>\n",
       "    <tr>\n",
       "      <th>4869</th>\n",
       "      <td>2024-12-26</td>\n",
       "      <td>0.148535</td>\n",
       "      <td>0.162705</td>\n",
       "      <td>0.148337</td>\n",
       "      <td>0.162585</td>\n",
       "      <td>0</td>\n",
       "    </tr>\n",
       "    <tr>\n",
       "      <th>4870</th>\n",
       "      <td>2024-12-27</td>\n",
       "      <td>0.162641</td>\n",
       "      <td>0.162175</td>\n",
       "      <td>0.161044</td>\n",
       "      <td>0.162641</td>\n",
       "      <td>0</td>\n",
       "    </tr>\n",
       "  </tbody>\n",
       "</table>\n",
       "<p>4871 rows × 6 columns</p>\n",
       "</div>"
      ],
      "text/plain": [
       "Price        Date     Close      High       Low      Open   Volume\n",
       "Ticker             BRLUSD=X  BRLUSD=X  BRLUSD=X  BRLUSD=X BRLUSD=X\n",
       "0      2004-08-11  0.329489  0.330360  0.328947  0.330360        0\n",
       "1      2004-08-12  0.329598  0.330469  0.329489  0.329489        0\n",
       "2      2004-08-13  0.331235  0.331455  0.329272  0.329598        0\n",
       "3      2004-08-16  0.332668  0.332779  0.330469  0.331235        0\n",
       "4      2004-08-17  0.334001  0.334113  0.332668  0.332668        0\n",
       "...           ...       ...       ...       ...       ...      ...\n",
       "4866   2024-12-23  0.164360  0.164781  0.161789  0.164360        0\n",
       "4867   2024-12-24  0.161449  0.161773  0.160914  0.161449        0\n",
       "4868   2024-12-25  0.161928  0.162110  0.155979  0.161928        0\n",
       "4869   2024-12-26  0.148535  0.162705  0.148337  0.162585        0\n",
       "4870   2024-12-27  0.162641  0.162175  0.161044  0.162641        0\n",
       "\n",
       "[4871 rows x 6 columns]"
      ]
     },
     "execution_count": 10,
     "metadata": {},
     "output_type": "execute_result"
    }
   ],
   "source": [
    "df_brl= pd.DataFrame(bra_value)\n",
    "\n",
    "df_brl.reset_index(inplace= True)\n",
    "\n",
    "df_brl"
   ]
  },
  {
   "cell_type": "code",
   "execution_count": 11,
   "id": "390f15ce",
   "metadata": {},
   "outputs": [
    {
     "name": "stdout",
     "output_type": "stream",
     "text": [
      "<class 'pandas.core.frame.DataFrame'>\n",
      "RangeIndex: 4871 entries, 0 to 4870\n",
      "Data columns (total 6 columns):\n",
      " #   Column              Non-Null Count  Dtype         \n",
      "---  ------              --------------  -----         \n",
      " 0   (Date, )            4871 non-null   datetime64[ns]\n",
      " 1   (Close, BRLUSD=X)   4871 non-null   float64       \n",
      " 2   (High, BRLUSD=X)    4871 non-null   float64       \n",
      " 3   (Low, BRLUSD=X)     4871 non-null   float64       \n",
      " 4   (Open, BRLUSD=X)    4871 non-null   float64       \n",
      " 5   (Volume, BRLUSD=X)  4871 non-null   int64         \n",
      "dtypes: datetime64[ns](1), float64(4), int64(1)\n",
      "memory usage: 228.5 KB\n"
     ]
    }
   ],
   "source": [
    "df_brl.info()"
   ]
  },
  {
   "cell_type": "code",
   "execution_count": 12,
   "id": "48c47384",
   "metadata": {},
   "outputs": [],
   "source": [
    "df_brasil= df_brl[['Date', 'Close']]\n",
    "\n",
    "df_brasil= df_brasil.copy()"
   ]
  },
  {
   "cell_type": "code",
   "execution_count": 13,
   "id": "45b13b23",
   "metadata": {},
   "outputs": [],
   "source": [
    "df_brasil.rename(columns={'Date':'Período analizado', 'Close':'Valor de conversión'}, inplace=True)\n",
    "\n",
    "df_brasil.to_csv(\"RealBrasileño.csv\", index=False, encoding='utf-8')"
   ]
  },
  {
   "cell_type": "code",
   "execution_count": 14,
   "id": "675b4223",
   "metadata": {},
   "outputs": [
    {
     "data": {
      "image/png": "[encoded data removed]",
      "text/plain": [
       "<Figure size 640x480 with 1 Axes>"
      ]
     },
     "metadata": {},
     "output_type": "display_data"
    },
    {
     "name": "stdout",
     "output_type": "stream",
     "text": [
      "Tasa de conversión promedio del Real durante el período analizado: 0.3672301752553586\n"
     ]
    }
   ],
   "source": [
    "# Crear gráfico para tasa de cambio de la moneda de brasil en Dólares USD\n",
    "sns.set_theme(style=\"whitegrid\")\n",
    "\n",
    "plt.plot(df_brasil[\"Período analizado\"], df_brasil[\"Valor de conversión\"])\n",
    "\n",
    "plt.title(\"Valor del Real en USD\")\n",
    "\n",
    "plt.show()\n",
    "\n",
    "print(\"Tasa de conversión promedio del Real durante el período analizado:\", np.mean(df_brasil[\"Valor de conversión\"]))"
   ]
  },
  {
   "cell_type": "code",
   "execution_count": 15,
   "id": "acbcae2b",
   "metadata": {},
   "outputs": [
    {
     "name": "stderr",
     "output_type": "stream",
     "text": [
      "[*********************100%***********************]  1 of 1 completed"
     ]
    },
    {
     "name": "stdout",
     "output_type": "stream",
     "text": [
      "Price          Close      High       Low      Open   Volume\n",
      "Ticker      UYUUSD=X  UYUUSD=X  UYUUSD=X  UYUUSD=X UYUUSD=X\n",
      "Date                                                       \n",
      "2004-08-11  0.034790  0.034790  0.034790  0.034790        0\n",
      "2004-08-12  0.034943  0.034943  0.034943  0.034943        0\n",
      "2004-08-13  0.035075  0.035075  0.034843  0.034843        0\n",
      "2004-08-16  0.035195  0.035195  0.035195  0.035195        0\n",
      "2004-08-17  0.035170  0.035170  0.035170  0.035170        0\n",
      "2004-08-18  0.035690  0.035690  0.035690  0.035690        0\n"
     ]
    },
    {
     "name": "stderr",
     "output_type": "stream",
     "text": [
      "\n"
     ]
    }
   ],
   "source": [
    "uyu_value= yf.download('UYUUSD=X', start=start, end=end)\n",
    "print(uyu_value.head(6))"
   ]
  },
  {
   "cell_type": "code",
   "execution_count": 16,
   "id": "6628735d",
   "metadata": {},
   "outputs": [],
   "source": [
    "df_uyu= pd.DataFrame(uyu_value)"
   ]
  },
  {
   "cell_type": "code",
   "execution_count": 17,
   "id": "88817276",
   "metadata": {},
   "outputs": [
    {
     "data": {
      "text/html": [
       "<div>\n",
       "<style scoped>\n",
       "    .dataframe tbody tr th:only-of-type {\n",
       "        vertical-align: middle;\n",
       "    }\n",
       "\n",
       "    .dataframe tbody tr th {\n",
       "        vertical-align: top;\n",
       "    }\n",
       "\n",
       "    .dataframe thead tr th {\n",
       "        text-align: left;\n",
       "    }\n",
       "</style>\n",
       "<table border=\"1\" class=\"dataframe\">\n",
       "  <thead>\n",
       "    <tr>\n",
       "      <th>Price</th>\n",
       "      <th>Date</th>\n",
       "      <th>Close</th>\n",
       "      <th>High</th>\n",
       "      <th>Low</th>\n",
       "      <th>Open</th>\n",
       "      <th>Volume</th>\n",
       "    </tr>\n",
       "    <tr>\n",
       "      <th>Ticker</th>\n",
       "      <th></th>\n",
       "      <th>UYUUSD=X</th>\n",
       "      <th>UYUUSD=X</th>\n",
       "      <th>UYUUSD=X</th>\n",
       "      <th>UYUUSD=X</th>\n",
       "      <th>UYUUSD=X</th>\n",
       "    </tr>\n",
       "  </thead>\n",
       "  <tbody>\n",
       "    <tr>\n",
       "      <th>0</th>\n",
       "      <td>2004-08-11</td>\n",
       "      <td>0.034790</td>\n",
       "      <td>0.034790</td>\n",
       "      <td>0.034790</td>\n",
       "      <td>0.034790</td>\n",
       "      <td>0</td>\n",
       "    </tr>\n",
       "    <tr>\n",
       "      <th>1</th>\n",
       "      <td>2004-08-12</td>\n",
       "      <td>0.034943</td>\n",
       "      <td>0.034943</td>\n",
       "      <td>0.034943</td>\n",
       "      <td>0.034943</td>\n",
       "      <td>0</td>\n",
       "    </tr>\n",
       "    <tr>\n",
       "      <th>2</th>\n",
       "      <td>2004-08-13</td>\n",
       "      <td>0.035075</td>\n",
       "      <td>0.035075</td>\n",
       "      <td>0.034843</td>\n",
       "      <td>0.034843</td>\n",
       "      <td>0</td>\n",
       "    </tr>\n",
       "    <tr>\n",
       "      <th>3</th>\n",
       "      <td>2004-08-16</td>\n",
       "      <td>0.035195</td>\n",
       "      <td>0.035195</td>\n",
       "      <td>0.035195</td>\n",
       "      <td>0.035195</td>\n",
       "      <td>0</td>\n",
       "    </tr>\n",
       "    <tr>\n",
       "      <th>4</th>\n",
       "      <td>2004-08-17</td>\n",
       "      <td>0.035170</td>\n",
       "      <td>0.035170</td>\n",
       "      <td>0.035170</td>\n",
       "      <td>0.035170</td>\n",
       "      <td>0</td>\n",
       "    </tr>\n",
       "    <tr>\n",
       "      <th>...</th>\n",
       "      <td>...</td>\n",
       "      <td>...</td>\n",
       "      <td>...</td>\n",
       "      <td>...</td>\n",
       "      <td>...</td>\n",
       "      <td>...</td>\n",
       "    </tr>\n",
       "    <tr>\n",
       "      <th>5306</th>\n",
       "      <td>2024-12-23</td>\n",
       "      <td>0.022805</td>\n",
       "      <td>0.022811</td>\n",
       "      <td>0.022616</td>\n",
       "      <td>0.022811</td>\n",
       "      <td>0</td>\n",
       "    </tr>\n",
       "    <tr>\n",
       "      <th>5307</th>\n",
       "      <td>2024-12-24</td>\n",
       "      <td>0.022616</td>\n",
       "      <td>0.022775</td>\n",
       "      <td>0.022649</td>\n",
       "      <td>0.022649</td>\n",
       "      <td>0</td>\n",
       "    </tr>\n",
       "    <tr>\n",
       "      <th>5308</th>\n",
       "      <td>2024-12-25</td>\n",
       "      <td>0.022775</td>\n",
       "      <td>0.022797</td>\n",
       "      <td>0.022797</td>\n",
       "      <td>0.022797</td>\n",
       "      <td>0</td>\n",
       "    </tr>\n",
       "    <tr>\n",
       "      <th>5309</th>\n",
       "      <td>2024-12-26</td>\n",
       "      <td>0.022775</td>\n",
       "      <td>0.022797</td>\n",
       "      <td>0.022797</td>\n",
       "      <td>0.022797</td>\n",
       "      <td>0</td>\n",
       "    </tr>\n",
       "    <tr>\n",
       "      <th>5310</th>\n",
       "      <td>2024-12-27</td>\n",
       "      <td>0.022797</td>\n",
       "      <td>0.023002</td>\n",
       "      <td>0.023002</td>\n",
       "      <td>0.023002</td>\n",
       "      <td>0</td>\n",
       "    </tr>\n",
       "  </tbody>\n",
       "</table>\n",
       "<p>5311 rows × 6 columns</p>\n",
       "</div>"
      ],
      "text/plain": [
       "Price        Date     Close      High       Low      Open   Volume\n",
       "Ticker             UYUUSD=X  UYUUSD=X  UYUUSD=X  UYUUSD=X UYUUSD=X\n",
       "0      2004-08-11  0.034790  0.034790  0.034790  0.034790        0\n",
       "1      2004-08-12  0.034943  0.034943  0.034943  0.034943        0\n",
       "2      2004-08-13  0.035075  0.035075  0.034843  0.034843        0\n",
       "3      2004-08-16  0.035195  0.035195  0.035195  0.035195        0\n",
       "4      2004-08-17  0.035170  0.035170  0.035170  0.035170        0\n",
       "...           ...       ...       ...       ...       ...      ...\n",
       "5306   2024-12-23  0.022805  0.022811  0.022616  0.022811        0\n",
       "5307   2024-12-24  0.022616  0.022775  0.022649  0.022649        0\n",
       "5308   2024-12-25  0.022775  0.022797  0.022797  0.022797        0\n",
       "5309   2024-12-26  0.022775  0.022797  0.022797  0.022797        0\n",
       "5310   2024-12-27  0.022797  0.023002  0.023002  0.023002        0\n",
       "\n",
       "[5311 rows x 6 columns]"
      ]
     },
     "execution_count": 17,
     "metadata": {},
     "output_type": "execute_result"
    }
   ],
   "source": [
    "df_uyu= pd.DataFrame(uyu_value)\n",
    "\n",
    "df_uyu.reset_index(inplace= True)\n",
    "\n",
    "df_uyu"
   ]
  },
  {
   "cell_type": "code",
   "execution_count": 18,
   "id": "eb8be9b2",
   "metadata": {},
   "outputs": [
    {
     "name": "stdout",
     "output_type": "stream",
     "text": [
      "<class 'pandas.core.frame.DataFrame'>\n",
      "RangeIndex: 5311 entries, 0 to 5310\n",
      "Data columns (total 6 columns):\n",
      " #   Column              Non-Null Count  Dtype         \n",
      "---  ------              --------------  -----         \n",
      " 0   (Date, )            5311 non-null   datetime64[ns]\n",
      " 1   (Close, UYUUSD=X)   5311 non-null   float64       \n",
      " 2   (High, UYUUSD=X)    5311 non-null   float64       \n",
      " 3   (Low, UYUUSD=X)     5311 non-null   float64       \n",
      " 4   (Open, UYUUSD=X)    5311 non-null   float64       \n",
      " 5   (Volume, UYUUSD=X)  5311 non-null   int64         \n",
      "dtypes: datetime64[ns](1), float64(4), int64(1)\n",
      "memory usage: 249.1 KB\n"
     ]
    }
   ],
   "source": [
    "df_uyu.info()"
   ]
  },
  {
   "cell_type": "code",
   "execution_count": 19,
   "id": "d18eb713",
   "metadata": {},
   "outputs": [],
   "source": [
    "df_uruguay= df_uyu[['Date', 'Close']]\n",
    "\n",
    "df_uruguay= df_uruguay.copy()"
   ]
  },
  {
   "cell_type": "code",
   "execution_count": 20,
   "id": "4b5f3258",
   "metadata": {},
   "outputs": [],
   "source": [
    "df_uruguay.rename(columns={'Date':'Período analizado', 'Close':'Valor de conversión'}, inplace=True)\n",
    "\n",
    "# df_uruguay.to_csv(\"PesoUruguayo.csv\", index=False, encoding='utf-8')"
   ]
  },
  {
   "cell_type": "code",
   "execution_count": 21,
   "id": "f5aa95ac",
   "metadata": {},
   "outputs": [
    {
     "data": {
      "image/png": "[encoded data removed]",
      "text/plain": [
       "<Figure size 640x480 with 1 Axes>"
      ]
     },
     "metadata": {},
     "output_type": "display_data"
    },
    {
     "name": "stdout",
     "output_type": "stream",
     "text": [
      "Tasa de conversión promedio de Peso Uruguayo durante el período analizado: 0.03819405388404782\n"
     ]
    }
   ],
   "source": [
    "sns.set_theme(style=\"whitegrid\")\n",
    "\n",
    "plt.plot(df_uruguay[\"Período analizado\"], df_uruguay[\"Valor de conversión\"])\n",
    "\n",
    "plt.title(\"Valor del Peso Uruguayo en USD\")\n",
    "\n",
    "plt.show()\n",
    "\n",
    "print(\"Tasa de conversión promedio de Peso Uruguayo durante el período analizado:\", np.mean(df_uruguay[\"Valor de conversión\"]))"
   ]
  },
  {
   "cell_type": "code",
   "execution_count": 22,
   "id": "b88cfff1",
   "metadata": {},
   "outputs": [
    {
     "name": "stderr",
     "output_type": "stream",
     "text": [
      "[*********************100%***********************]  1 of 1 completed"
     ]
    },
    {
     "name": "stdout",
     "output_type": "stream",
     "text": [
      "Price          Close      High       Low      Open   Volume\n",
      "Ticker      CLPUSD=X  CLPUSD=X  CLPUSD=X  CLPUSD=X CLPUSD=X\n",
      "Date                                                       \n",
      "2004-08-11  0.001592  0.001608  0.001608  0.001608        0\n",
      "2004-08-12  0.001592  0.001607  0.001607  0.001607        0\n",
      "2004-08-13  0.001601  0.001603  0.001601  0.001603        0\n",
      "2004-08-16  0.001592  0.001609  0.001592  0.001592        0\n",
      "2004-08-17  0.001592  0.001614  0.001614  0.001614        0\n",
      "2004-08-18  0.001577  0.001622  0.001577  0.001577        0\n"
     ]
    },
    {
     "name": "stderr",
     "output_type": "stream",
     "text": [
      "\n"
     ]
    }
   ],
   "source": [
    "chile_value= yf.download('CLPUSD=X', start=start, end=end)\n",
    "print(chile_value.head(6))"
   ]
  },
  {
   "cell_type": "code",
   "execution_count": 23,
   "id": "4baa490e",
   "metadata": {},
   "outputs": [
    {
     "data": {
      "text/html": [
       "<div>\n",
       "<style scoped>\n",
       "    .dataframe tbody tr th:only-of-type {\n",
       "        vertical-align: middle;\n",
       "    }\n",
       "\n",
       "    .dataframe tbody tr th {\n",
       "        vertical-align: top;\n",
       "    }\n",
       "\n",
       "    .dataframe thead tr th {\n",
       "        text-align: left;\n",
       "    }\n",
       "</style>\n",
       "<table border=\"1\" class=\"dataframe\">\n",
       "  <thead>\n",
       "    <tr>\n",
       "      <th>Price</th>\n",
       "      <th>Date</th>\n",
       "      <th>Close</th>\n",
       "      <th>High</th>\n",
       "      <th>Low</th>\n",
       "      <th>Open</th>\n",
       "      <th>Volume</th>\n",
       "    </tr>\n",
       "    <tr>\n",
       "      <th>Ticker</th>\n",
       "      <th></th>\n",
       "      <th>CLPUSD=X</th>\n",
       "      <th>CLPUSD=X</th>\n",
       "      <th>CLPUSD=X</th>\n",
       "      <th>CLPUSD=X</th>\n",
       "      <th>CLPUSD=X</th>\n",
       "    </tr>\n",
       "  </thead>\n",
       "  <tbody>\n",
       "    <tr>\n",
       "      <th>0</th>\n",
       "      <td>2004-08-11</td>\n",
       "      <td>0.001592</td>\n",
       "      <td>0.001608</td>\n",
       "      <td>0.001608</td>\n",
       "      <td>0.001608</td>\n",
       "      <td>0</td>\n",
       "    </tr>\n",
       "    <tr>\n",
       "      <th>1</th>\n",
       "      <td>2004-08-12</td>\n",
       "      <td>0.001592</td>\n",
       "      <td>0.001607</td>\n",
       "      <td>0.001607</td>\n",
       "      <td>0.001607</td>\n",
       "      <td>0</td>\n",
       "    </tr>\n",
       "    <tr>\n",
       "      <th>2</th>\n",
       "      <td>2004-08-13</td>\n",
       "      <td>0.001601</td>\n",
       "      <td>0.001603</td>\n",
       "      <td>0.001601</td>\n",
       "      <td>0.001603</td>\n",
       "      <td>0</td>\n",
       "    </tr>\n",
       "    <tr>\n",
       "      <th>3</th>\n",
       "      <td>2004-08-16</td>\n",
       "      <td>0.001592</td>\n",
       "      <td>0.001609</td>\n",
       "      <td>0.001592</td>\n",
       "      <td>0.001592</td>\n",
       "      <td>0</td>\n",
       "    </tr>\n",
       "    <tr>\n",
       "      <th>4</th>\n",
       "      <td>2004-08-17</td>\n",
       "      <td>0.001592</td>\n",
       "      <td>0.001614</td>\n",
       "      <td>0.001614</td>\n",
       "      <td>0.001614</td>\n",
       "      <td>0</td>\n",
       "    </tr>\n",
       "    <tr>\n",
       "      <th>...</th>\n",
       "      <td>...</td>\n",
       "      <td>...</td>\n",
       "      <td>...</td>\n",
       "      <td>...</td>\n",
       "      <td>...</td>\n",
       "      <td>...</td>\n",
       "    </tr>\n",
       "    <tr>\n",
       "      <th>5282</th>\n",
       "      <td>2024-12-23</td>\n",
       "      <td>0.001026</td>\n",
       "      <td>0.001011</td>\n",
       "      <td>0.001006</td>\n",
       "      <td>0.001026</td>\n",
       "      <td>0</td>\n",
       "    </tr>\n",
       "    <tr>\n",
       "      <th>5283</th>\n",
       "      <td>2024-12-24</td>\n",
       "      <td>0.001010</td>\n",
       "      <td>0.001013</td>\n",
       "      <td>0.001009</td>\n",
       "      <td>0.001010</td>\n",
       "      <td>0</td>\n",
       "    </tr>\n",
       "    <tr>\n",
       "      <th>5284</th>\n",
       "      <td>2024-12-25</td>\n",
       "      <td>0.001010</td>\n",
       "      <td>0.001026</td>\n",
       "      <td>0.001011</td>\n",
       "      <td>0.001010</td>\n",
       "      <td>0</td>\n",
       "    </tr>\n",
       "    <tr>\n",
       "      <th>5285</th>\n",
       "      <td>2024-12-26</td>\n",
       "      <td>0.001011</td>\n",
       "      <td>0.001012</td>\n",
       "      <td>0.001008</td>\n",
       "      <td>0.001011</td>\n",
       "      <td>0</td>\n",
       "    </tr>\n",
       "    <tr>\n",
       "      <th>5286</th>\n",
       "      <td>2024-12-27</td>\n",
       "      <td>0.001011</td>\n",
       "      <td>0.001011</td>\n",
       "      <td>0.001005</td>\n",
       "      <td>0.001011</td>\n",
       "      <td>0</td>\n",
       "    </tr>\n",
       "  </tbody>\n",
       "</table>\n",
       "<p>5287 rows × 6 columns</p>\n",
       "</div>"
      ],
      "text/plain": [
       "Price        Date     Close      High       Low      Open   Volume\n",
       "Ticker             CLPUSD=X  CLPUSD=X  CLPUSD=X  CLPUSD=X CLPUSD=X\n",
       "0      2004-08-11  0.001592  0.001608  0.001608  0.001608        0\n",
       "1      2004-08-12  0.001592  0.001607  0.001607  0.001607        0\n",
       "2      2004-08-13  0.001601  0.001603  0.001601  0.001603        0\n",
       "3      2004-08-16  0.001592  0.001609  0.001592  0.001592        0\n",
       "4      2004-08-17  0.001592  0.001614  0.001614  0.001614        0\n",
       "...           ...       ...       ...       ...       ...      ...\n",
       "5282   2024-12-23  0.001026  0.001011  0.001006  0.001026        0\n",
       "5283   2024-12-24  0.001010  0.001013  0.001009  0.001010        0\n",
       "5284   2024-12-25  0.001010  0.001026  0.001011  0.001010        0\n",
       "5285   2024-12-26  0.001011  0.001012  0.001008  0.001011        0\n",
       "5286   2024-12-27  0.001011  0.001011  0.001005  0.001011        0\n",
       "\n",
       "[5287 rows x 6 columns]"
      ]
     },
     "execution_count": 23,
     "metadata": {},
     "output_type": "execute_result"
    }
   ],
   "source": [
    "df_cl= pd.DataFrame(chile_value)\n",
    "\n",
    "df_cl.reset_index(inplace= True)\n",
    "\n",
    "df_cl"
   ]
  },
  {
   "cell_type": "code",
   "execution_count": 24,
   "id": "6d3349d7",
   "metadata": {},
   "outputs": [],
   "source": [
    "df_chile= df_cl[['Date', 'Close']]\n",
    "\n",
    "df_chile= df_chile.copy() "
   ]
  },
  {
   "cell_type": "code",
   "execution_count": 25,
   "id": "656d06c0",
   "metadata": {},
   "outputs": [],
   "source": [
    "df_chile.rename(columns={'Date':'Período analizado','Close':'Valor de conversión'}, inplace=True)\n",
    "\n",
    "# df_chile.to_csv(\"PesoChileno.csv\", index=False, encoding='utf-8')"
   ]
  },
  {
   "cell_type": "code",
   "execution_count": 26,
   "id": "565116c4",
   "metadata": {},
   "outputs": [
    {
     "data": {
      "image/png": "[encoded data removed]",
      "text/plain": [
       "<Figure size 640x480 with 1 Axes>"
      ]
     },
     "metadata": {},
     "output_type": "display_data"
    },
    {
     "name": "stdout",
     "output_type": "stream",
     "text": [
      "Tasa de conversión promedio del Peso Chileno durante el período analizado: 0.0017203199323431448\n"
     ]
    }
   ],
   "source": [
    "sns.set_theme(style=\"whitegrid\")\n",
    "\n",
    "plt.plot(df_chile[\"Período analizado\"], df_chile[\"Valor de conversión\"])\n",
    "\n",
    "plt.title(\"Valor delPeso Chileno en USD\")\n",
    "\n",
    "plt.show()\n",
    "\n",
    "print(\"Tasa de conversión promedio del Peso Chileno durante el período analizado:\", np.mean(df_chile[\"Valor de conversión\"]))"
   ]
  },
  {
   "cell_type": "code",
   "execution_count": 27,
   "id": "e6ee49de",
   "metadata": {},
   "outputs": [
    {
     "name": "stderr",
     "output_type": "stream",
     "text": [
      "[*********************100%***********************]  1 of 1 completed"
     ]
    },
    {
     "name": "stdout",
     "output_type": "stream",
     "text": [
      "Price          Close      High       Low      Open   Volume\n",
      "Ticker      PYGUSD=X  PYGUSD=X  PYGUSD=X  PYGUSD=X PYGUSD=X\n",
      "Date                                                       \n",
      "2004-08-11  0.000172  0.000172  0.000172  0.000172        0\n",
      "2004-08-12  0.000172  0.000172  0.000172  0.000172        0\n",
      "2004-08-13  0.000172  0.000172  0.000172  0.000172        0\n",
      "2004-08-16  0.000172  0.000172  0.000172  0.000172        0\n",
      "2004-08-17  0.000172  0.000172  0.000172  0.000172        0\n",
      "2004-08-18  0.000172  0.000172  0.000172  0.000172        0\n"
     ]
    },
    {
     "name": "stderr",
     "output_type": "stream",
     "text": [
      "\n"
     ]
    }
   ],
   "source": [
    "guarani_value= yf.download('PYGUSD=X', start=start, end=end)\n",
    "print(guarani_value.head(6))"
   ]
  },
  {
   "cell_type": "code",
   "execution_count": 28,
   "id": "5559f530",
   "metadata": {},
   "outputs": [
    {
     "data": {
      "text/html": [
       "<div>\n",
       "<style scoped>\n",
       "    .dataframe tbody tr th:only-of-type {\n",
       "        vertical-align: middle;\n",
       "    }\n",
       "\n",
       "    .dataframe tbody tr th {\n",
       "        vertical-align: top;\n",
       "    }\n",
       "\n",
       "    .dataframe thead tr th {\n",
       "        text-align: left;\n",
       "    }\n",
       "</style>\n",
       "<table border=\"1\" class=\"dataframe\">\n",
       "  <thead>\n",
       "    <tr>\n",
       "      <th>Price</th>\n",
       "      <th>Date</th>\n",
       "      <th>Close</th>\n",
       "      <th>High</th>\n",
       "      <th>Low</th>\n",
       "      <th>Open</th>\n",
       "      <th>Volume</th>\n",
       "    </tr>\n",
       "    <tr>\n",
       "      <th>Ticker</th>\n",
       "      <th></th>\n",
       "      <th>PYGUSD=X</th>\n",
       "      <th>PYGUSD=X</th>\n",
       "      <th>PYGUSD=X</th>\n",
       "      <th>PYGUSD=X</th>\n",
       "      <th>PYGUSD=X</th>\n",
       "    </tr>\n",
       "  </thead>\n",
       "  <tbody>\n",
       "    <tr>\n",
       "      <th>0</th>\n",
       "      <td>2004-08-11</td>\n",
       "      <td>0.000172</td>\n",
       "      <td>0.000172</td>\n",
       "      <td>0.000172</td>\n",
       "      <td>0.000172</td>\n",
       "      <td>0</td>\n",
       "    </tr>\n",
       "    <tr>\n",
       "      <th>1</th>\n",
       "      <td>2004-08-12</td>\n",
       "      <td>0.000172</td>\n",
       "      <td>0.000172</td>\n",
       "      <td>0.000172</td>\n",
       "      <td>0.000172</td>\n",
       "      <td>0</td>\n",
       "    </tr>\n",
       "    <tr>\n",
       "      <th>2</th>\n",
       "      <td>2004-08-13</td>\n",
       "      <td>0.000172</td>\n",
       "      <td>0.000172</td>\n",
       "      <td>0.000172</td>\n",
       "      <td>0.000172</td>\n",
       "      <td>0</td>\n",
       "    </tr>\n",
       "    <tr>\n",
       "      <th>3</th>\n",
       "      <td>2004-08-16</td>\n",
       "      <td>0.000172</td>\n",
       "      <td>0.000172</td>\n",
       "      <td>0.000172</td>\n",
       "      <td>0.000172</td>\n",
       "      <td>0</td>\n",
       "    </tr>\n",
       "    <tr>\n",
       "      <th>4</th>\n",
       "      <td>2004-08-17</td>\n",
       "      <td>0.000172</td>\n",
       "      <td>0.000172</td>\n",
       "      <td>0.000172</td>\n",
       "      <td>0.000172</td>\n",
       "      <td>0</td>\n",
       "    </tr>\n",
       "    <tr>\n",
       "      <th>...</th>\n",
       "      <td>...</td>\n",
       "      <td>...</td>\n",
       "      <td>...</td>\n",
       "      <td>...</td>\n",
       "      <td>...</td>\n",
       "      <td>...</td>\n",
       "    </tr>\n",
       "    <tr>\n",
       "      <th>5280</th>\n",
       "      <td>2024-12-23</td>\n",
       "      <td>0.000131</td>\n",
       "      <td>0.000131</td>\n",
       "      <td>0.000130</td>\n",
       "      <td>0.000131</td>\n",
       "      <td>0</td>\n",
       "    </tr>\n",
       "    <tr>\n",
       "      <th>5281</th>\n",
       "      <td>2024-12-24</td>\n",
       "      <td>0.000130</td>\n",
       "      <td>0.000130</td>\n",
       "      <td>0.000130</td>\n",
       "      <td>0.000130</td>\n",
       "      <td>0</td>\n",
       "    </tr>\n",
       "    <tr>\n",
       "      <th>5282</th>\n",
       "      <td>2024-12-25</td>\n",
       "      <td>0.000130</td>\n",
       "      <td>0.000131</td>\n",
       "      <td>0.000130</td>\n",
       "      <td>0.000130</td>\n",
       "      <td>0</td>\n",
       "    </tr>\n",
       "    <tr>\n",
       "      <th>5283</th>\n",
       "      <td>2024-12-26</td>\n",
       "      <td>0.000130</td>\n",
       "      <td>0.000131</td>\n",
       "      <td>0.000130</td>\n",
       "      <td>0.000130</td>\n",
       "      <td>0</td>\n",
       "    </tr>\n",
       "    <tr>\n",
       "      <th>5284</th>\n",
       "      <td>2024-12-27</td>\n",
       "      <td>0.000131</td>\n",
       "      <td>0.000131</td>\n",
       "      <td>0.000131</td>\n",
       "      <td>0.000131</td>\n",
       "      <td>0</td>\n",
       "    </tr>\n",
       "  </tbody>\n",
       "</table>\n",
       "<p>5285 rows × 6 columns</p>\n",
       "</div>"
      ],
      "text/plain": [
       "Price        Date     Close      High       Low      Open   Volume\n",
       "Ticker             PYGUSD=X  PYGUSD=X  PYGUSD=X  PYGUSD=X PYGUSD=X\n",
       "0      2004-08-11  0.000172  0.000172  0.000172  0.000172        0\n",
       "1      2004-08-12  0.000172  0.000172  0.000172  0.000172        0\n",
       "2      2004-08-13  0.000172  0.000172  0.000172  0.000172        0\n",
       "3      2004-08-16  0.000172  0.000172  0.000172  0.000172        0\n",
       "4      2004-08-17  0.000172  0.000172  0.000172  0.000172        0\n",
       "...           ...       ...       ...       ...       ...      ...\n",
       "5280   2024-12-23  0.000131  0.000131  0.000130  0.000131        0\n",
       "5281   2024-12-24  0.000130  0.000130  0.000130  0.000130        0\n",
       "5282   2024-12-25  0.000130  0.000131  0.000130  0.000130        0\n",
       "5283   2024-12-26  0.000130  0.000131  0.000130  0.000130        0\n",
       "5284   2024-12-27  0.000131  0.000131  0.000131  0.000131        0\n",
       "\n",
       "[5285 rows x 6 columns]"
      ]
     },
     "execution_count": 28,
     "metadata": {},
     "output_type": "execute_result"
    }
   ],
   "source": [
    "df_guarani= pd.DataFrame(guarani_value)\n",
    "\n",
    "df_guarani.reset_index(inplace= True)\n",
    "\n",
    "df_guarani"
   ]
  },
  {
   "cell_type": "code",
   "execution_count": 29,
   "id": "84327292",
   "metadata": {},
   "outputs": [],
   "source": [
    "df_paraguay= df_guarani[['Date', 'Close']]\n",
    "\n",
    "df_paraguay= df_paraguay.copy()"
   ]
  },
  {
   "cell_type": "code",
   "execution_count": 30,
   "id": "95bf7e1b",
   "metadata": {},
   "outputs": [],
   "source": [
    "df_paraguay.rename(columns={'Date':'Período analizado', 'Close':'Valor de conversión'}, inplace=True)\n",
    "\n",
    "# df_paraguay.to_csv(\"GuaraniParaguayo.csv\", index=False, encoding='utf-8')"
   ]
  },
  {
   "cell_type": "code",
   "execution_count": 31,
   "id": "d498503c",
   "metadata": {},
   "outputs": [
    {
     "data": {
      "image/png": "[encoded data removed]",
      "text/plain": [
       "<Figure size 640x480 with 1 Axes>"
      ]
     },
     "metadata": {},
     "output_type": "display_data"
    },
    {
     "name": "stdout",
     "output_type": "stream",
     "text": [
      "Tasa de conversión promedio del Guaraní durante el período analizado: 0.00018805496069673598\n"
     ]
    }
   ],
   "source": [
    "sns.set_theme(style=\"whitegrid\")\n",
    "\n",
    "plt.plot(df_paraguay[\"Período analizado\"], df_paraguay[\"Valor de conversión\"])\n",
    "\n",
    "plt.title(\"Valor del Guaraní en USD\")\n",
    "\n",
    "plt.show()\n",
    "\n",
    "print(\"Tasa de conversión promedio del Guaraní durante el período analizado:\", np.mean(df_paraguay[\"Valor de conversión\"]))"
   ]
  },
  {
   "cell_type": "code",
   "execution_count": 32,
   "id": "13c1d26f",
   "metadata": {},
   "outputs": [
    {
     "name": "stderr",
     "output_type": "stream",
     "text": [
      "[*********************100%***********************]  1 of 1 completed"
     ]
    },
    {
     "name": "stdout",
     "output_type": "stream",
     "text": [
      "Price          Close      High       Low      Open   Volume\n",
      "Ticker      BOBUSD=X  BOBUSD=X  BOBUSD=X  BOBUSD=X BOBUSD=X\n",
      "Date                                                       \n",
      "2004-08-11  0.129527  0.129527  0.129527  0.129527        0\n",
      "2004-08-12  0.129636  0.129636  0.129636  0.129636        0\n",
      "2004-08-13  0.129680  0.129680  0.129271  0.129271        0\n",
      "2004-08-16  0.129645  0.129645  0.129645  0.129645        0\n",
      "2004-08-17  0.129304  0.129304  0.129304  0.129304        0\n",
      "2004-08-18  0.129371  0.129371  0.129371  0.129371        0\n"
     ]
    },
    {
     "name": "stderr",
     "output_type": "stream",
     "text": [
      "\n"
     ]
    }
   ],
   "source": [
    "bol_value= yf.download('BOBUSD=X', start=start, end=end)\n",
    "print(bol_value.head(6))"
   ]
  },
  {
   "cell_type": "code",
   "execution_count": 33,
   "id": "c5b37288",
   "metadata": {},
   "outputs": [
    {
     "data": {
      "text/html": [
       "<div>\n",
       "<style scoped>\n",
       "    .dataframe tbody tr th:only-of-type {\n",
       "        vertical-align: middle;\n",
       "    }\n",
       "\n",
       "    .dataframe tbody tr th {\n",
       "        vertical-align: top;\n",
       "    }\n",
       "\n",
       "    .dataframe thead tr th {\n",
       "        text-align: left;\n",
       "    }\n",
       "</style>\n",
       "<table border=\"1\" class=\"dataframe\">\n",
       "  <thead>\n",
       "    <tr>\n",
       "      <th>Price</th>\n",
       "      <th>Date</th>\n",
       "      <th>Close</th>\n",
       "      <th>High</th>\n",
       "      <th>Low</th>\n",
       "      <th>Open</th>\n",
       "      <th>Volume</th>\n",
       "    </tr>\n",
       "    <tr>\n",
       "      <th>Ticker</th>\n",
       "      <th></th>\n",
       "      <th>BOBUSD=X</th>\n",
       "      <th>BOBUSD=X</th>\n",
       "      <th>BOBUSD=X</th>\n",
       "      <th>BOBUSD=X</th>\n",
       "      <th>BOBUSD=X</th>\n",
       "    </tr>\n",
       "  </thead>\n",
       "  <tbody>\n",
       "    <tr>\n",
       "      <th>0</th>\n",
       "      <td>2004-08-11</td>\n",
       "      <td>0.129527</td>\n",
       "      <td>0.129527</td>\n",
       "      <td>0.129527</td>\n",
       "      <td>0.129527</td>\n",
       "      <td>0</td>\n",
       "    </tr>\n",
       "    <tr>\n",
       "      <th>1</th>\n",
       "      <td>2004-08-12</td>\n",
       "      <td>0.129636</td>\n",
       "      <td>0.129636</td>\n",
       "      <td>0.129636</td>\n",
       "      <td>0.129636</td>\n",
       "      <td>0</td>\n",
       "    </tr>\n",
       "    <tr>\n",
       "      <th>2</th>\n",
       "      <td>2004-08-13</td>\n",
       "      <td>0.129680</td>\n",
       "      <td>0.129680</td>\n",
       "      <td>0.129271</td>\n",
       "      <td>0.129271</td>\n",
       "      <td>0</td>\n",
       "    </tr>\n",
       "    <tr>\n",
       "      <th>3</th>\n",
       "      <td>2004-08-16</td>\n",
       "      <td>0.129645</td>\n",
       "      <td>0.129645</td>\n",
       "      <td>0.129645</td>\n",
       "      <td>0.129645</td>\n",
       "      <td>0</td>\n",
       "    </tr>\n",
       "    <tr>\n",
       "      <th>4</th>\n",
       "      <td>2004-08-17</td>\n",
       "      <td>0.129304</td>\n",
       "      <td>0.129304</td>\n",
       "      <td>0.129304</td>\n",
       "      <td>0.129304</td>\n",
       "      <td>0</td>\n",
       "    </tr>\n",
       "    <tr>\n",
       "      <th>...</th>\n",
       "      <td>...</td>\n",
       "      <td>...</td>\n",
       "      <td>...</td>\n",
       "      <td>...</td>\n",
       "      <td>...</td>\n",
       "      <td>...</td>\n",
       "    </tr>\n",
       "    <tr>\n",
       "      <th>5280</th>\n",
       "      <td>2024-12-23</td>\n",
       "      <td>0.149456</td>\n",
       "      <td>0.149493</td>\n",
       "      <td>0.148358</td>\n",
       "      <td>0.149493</td>\n",
       "      <td>0</td>\n",
       "    </tr>\n",
       "    <tr>\n",
       "      <th>5281</th>\n",
       "      <td>2024-12-24</td>\n",
       "      <td>0.148358</td>\n",
       "      <td>0.148948</td>\n",
       "      <td>0.148569</td>\n",
       "      <td>0.148569</td>\n",
       "      <td>0</td>\n",
       "    </tr>\n",
       "    <tr>\n",
       "      <th>5282</th>\n",
       "      <td>2024-12-25</td>\n",
       "      <td>0.148948</td>\n",
       "      <td>0.149098</td>\n",
       "      <td>0.149005</td>\n",
       "      <td>0.149005</td>\n",
       "      <td>0</td>\n",
       "    </tr>\n",
       "    <tr>\n",
       "      <th>5283</th>\n",
       "      <td>2024-12-26</td>\n",
       "      <td>0.148948</td>\n",
       "      <td>0.149098</td>\n",
       "      <td>0.149005</td>\n",
       "      <td>0.149005</td>\n",
       "      <td>0</td>\n",
       "    </tr>\n",
       "    <tr>\n",
       "      <th>5284</th>\n",
       "      <td>2024-12-27</td>\n",
       "      <td>0.149098</td>\n",
       "      <td>0.148841</td>\n",
       "      <td>0.148841</td>\n",
       "      <td>0.148841</td>\n",
       "      <td>0</td>\n",
       "    </tr>\n",
       "  </tbody>\n",
       "</table>\n",
       "<p>5285 rows × 6 columns</p>\n",
       "</div>"
      ],
      "text/plain": [
       "Price        Date     Close      High       Low      Open   Volume\n",
       "Ticker             BOBUSD=X  BOBUSD=X  BOBUSD=X  BOBUSD=X BOBUSD=X\n",
       "0      2004-08-11  0.129527  0.129527  0.129527  0.129527        0\n",
       "1      2004-08-12  0.129636  0.129636  0.129636  0.129636        0\n",
       "2      2004-08-13  0.129680  0.129680  0.129271  0.129271        0\n",
       "3      2004-08-16  0.129645  0.129645  0.129645  0.129645        0\n",
       "4      2004-08-17  0.129304  0.129304  0.129304  0.129304        0\n",
       "...           ...       ...       ...       ...       ...      ...\n",
       "5280   2024-12-23  0.149456  0.149493  0.148358  0.149493        0\n",
       "5281   2024-12-24  0.148358  0.148948  0.148569  0.148569        0\n",
       "5282   2024-12-25  0.148948  0.149098  0.149005  0.149005        0\n",
       "5283   2024-12-26  0.148948  0.149098  0.149005  0.149005        0\n",
       "5284   2024-12-27  0.149098  0.148841  0.148841  0.148841        0\n",
       "\n",
       "[5285 rows x 6 columns]"
      ]
     },
     "execution_count": 33,
     "metadata": {},
     "output_type": "execute_result"
    }
   ],
   "source": [
    "df_bol= pd.DataFrame(bol_value)\n",
    "\n",
    "df_bol.reset_index(inplace= True)\n",
    "\n",
    "df_bol"
   ]
  },
  {
   "cell_type": "code",
   "execution_count": 34,
   "id": "5b1af01a",
   "metadata": {},
   "outputs": [],
   "source": [
    "df_bolivia= df_bol[['Date', 'Close']]\n",
    "\n",
    "df_bolivia= df_bolivia.copy()\n",
    "\n",
    "df_bolivia.rename(columns={'Date':'Período analizado', 'Close':'Valor de conversión'}, inplace=True)\n",
    "\n",
    "# df_bolivia.to_csv(\"PesoBoliviano.csv\", index=False, encoding='utf-8')"
   ]
  },
  {
   "cell_type": "code",
   "execution_count": 35,
   "id": "90337095",
   "metadata": {},
   "outputs": [
    {
     "data": {
      "image/png": "[encoded data removed]",
      "text/plain": [
       "<Figure size 640x480 with 1 Axes>"
      ]
     },
     "metadata": {},
     "output_type": "display_data"
    },
    {
     "name": "stdout",
     "output_type": "stream",
     "text": [
      "Tasa de conversión promedio del Peso Boliviano durante el período analizado: 0.14423838366059166\n"
     ]
    }
   ],
   "source": [
    "sns.set_theme(style=\"whitegrid\")\n",
    "\n",
    "plt.plot(df_bolivia[\"Período analizado\"], df_bolivia[\"Valor de conversión\"])\n",
    "\n",
    "plt.title(\"Valor del Peso Boliviano en USD\")\n",
    "\n",
    "plt.show()\n",
    "\n",
    "print(\"Tasa de conversión promedio del Peso Boliviano durante el período analizado:\", np.mean(df_bolivia[\"Valor de conversión\"]))"
   ]
  },
  {
   "cell_type": "code",
   "execution_count": 36,
   "id": "471c6194",
   "metadata": {},
   "outputs": [
    {
     "name": "stderr",
     "output_type": "stream",
     "text": [
      "[*********************100%***********************]  1 of 1 completed"
     ]
    },
    {
     "name": "stdout",
     "output_type": "stream",
     "text": [
      "Price          Close      High       Low      Open   Volume\n",
      "Ticker      PENUSD=X  PENUSD=X  PENUSD=X  PENUSD=X PENUSD=X\n",
      "Date                                                       \n",
      "2004-08-11  0.303444  0.303444  0.303444  0.303444        0\n",
      "2004-08-12  0.303748  0.303748  0.303748  0.303748        0\n",
      "2004-08-13  0.303859  0.303859  0.302893  0.302893        0\n",
      "2004-08-16  0.303665  0.303665  0.303665  0.303665        0\n",
      "2004-08-17  0.303453  0.303453  0.303453  0.303453        0\n",
      "2004-08-18  0.304507  0.304507  0.304507  0.304507        0\n"
     ]
    },
    {
     "name": "stderr",
     "output_type": "stream",
     "text": [
      "\n"
     ]
    }
   ],
   "source": [
    "sol_value= yf.download('PENUSD=X', start=start, end=end)\n",
    "print(sol_value.head(6))"
   ]
  },
  {
   "cell_type": "code",
   "execution_count": 37,
   "id": "23a63557",
   "metadata": {},
   "outputs": [
    {
     "data": {
      "text/html": [
       "<div>\n",
       "<style scoped>\n",
       "    .dataframe tbody tr th:only-of-type {\n",
       "        vertical-align: middle;\n",
       "    }\n",
       "\n",
       "    .dataframe tbody tr th {\n",
       "        vertical-align: top;\n",
       "    }\n",
       "\n",
       "    .dataframe thead tr th {\n",
       "        text-align: left;\n",
       "    }\n",
       "</style>\n",
       "<table border=\"1\" class=\"dataframe\">\n",
       "  <thead>\n",
       "    <tr>\n",
       "      <th>Price</th>\n",
       "      <th>Date</th>\n",
       "      <th>Close</th>\n",
       "      <th>High</th>\n",
       "      <th>Low</th>\n",
       "      <th>Open</th>\n",
       "      <th>Volume</th>\n",
       "    </tr>\n",
       "    <tr>\n",
       "      <th>Ticker</th>\n",
       "      <th></th>\n",
       "      <th>PENUSD=X</th>\n",
       "      <th>PENUSD=X</th>\n",
       "      <th>PENUSD=X</th>\n",
       "      <th>PENUSD=X</th>\n",
       "      <th>PENUSD=X</th>\n",
       "    </tr>\n",
       "  </thead>\n",
       "  <tbody>\n",
       "    <tr>\n",
       "      <th>0</th>\n",
       "      <td>2004-08-11</td>\n",
       "      <td>0.303444</td>\n",
       "      <td>0.303444</td>\n",
       "      <td>0.303444</td>\n",
       "      <td>0.303444</td>\n",
       "      <td>0</td>\n",
       "    </tr>\n",
       "    <tr>\n",
       "      <th>1</th>\n",
       "      <td>2004-08-12</td>\n",
       "      <td>0.303748</td>\n",
       "      <td>0.303748</td>\n",
       "      <td>0.303748</td>\n",
       "      <td>0.303748</td>\n",
       "      <td>0</td>\n",
       "    </tr>\n",
       "    <tr>\n",
       "      <th>2</th>\n",
       "      <td>2004-08-13</td>\n",
       "      <td>0.303859</td>\n",
       "      <td>0.303859</td>\n",
       "      <td>0.302893</td>\n",
       "      <td>0.302893</td>\n",
       "      <td>0</td>\n",
       "    </tr>\n",
       "    <tr>\n",
       "      <th>3</th>\n",
       "      <td>2004-08-16</td>\n",
       "      <td>0.303665</td>\n",
       "      <td>0.303665</td>\n",
       "      <td>0.303665</td>\n",
       "      <td>0.303665</td>\n",
       "      <td>0</td>\n",
       "    </tr>\n",
       "    <tr>\n",
       "      <th>4</th>\n",
       "      <td>2004-08-17</td>\n",
       "      <td>0.303453</td>\n",
       "      <td>0.303453</td>\n",
       "      <td>0.303453</td>\n",
       "      <td>0.303453</td>\n",
       "      <td>0</td>\n",
       "    </tr>\n",
       "    <tr>\n",
       "      <th>...</th>\n",
       "      <td>...</td>\n",
       "      <td>...</td>\n",
       "      <td>...</td>\n",
       "      <td>...</td>\n",
       "      <td>...</td>\n",
       "      <td>...</td>\n",
       "    </tr>\n",
       "    <tr>\n",
       "      <th>5307</th>\n",
       "      <td>2024-12-23</td>\n",
       "      <td>0.275319</td>\n",
       "      <td>0.275388</td>\n",
       "      <td>0.273409</td>\n",
       "      <td>0.275319</td>\n",
       "      <td>0</td>\n",
       "    </tr>\n",
       "    <tr>\n",
       "      <th>5308</th>\n",
       "      <td>2024-12-24</td>\n",
       "      <td>0.273409</td>\n",
       "      <td>0.274387</td>\n",
       "      <td>0.273816</td>\n",
       "      <td>0.273409</td>\n",
       "      <td>0</td>\n",
       "    </tr>\n",
       "    <tr>\n",
       "      <th>5309</th>\n",
       "      <td>2024-12-25</td>\n",
       "      <td>0.274387</td>\n",
       "      <td>0.274652</td>\n",
       "      <td>0.274480</td>\n",
       "      <td>0.274387</td>\n",
       "      <td>0</td>\n",
       "    </tr>\n",
       "    <tr>\n",
       "      <th>5310</th>\n",
       "      <td>2024-12-26</td>\n",
       "      <td>0.274387</td>\n",
       "      <td>0.274652</td>\n",
       "      <td>0.274480</td>\n",
       "      <td>0.274387</td>\n",
       "      <td>0</td>\n",
       "    </tr>\n",
       "    <tr>\n",
       "      <th>5311</th>\n",
       "      <td>2024-12-27</td>\n",
       "      <td>0.274652</td>\n",
       "      <td>0.272801</td>\n",
       "      <td>0.272801</td>\n",
       "      <td>0.274652</td>\n",
       "      <td>0</td>\n",
       "    </tr>\n",
       "  </tbody>\n",
       "</table>\n",
       "<p>5312 rows × 6 columns</p>\n",
       "</div>"
      ],
      "text/plain": [
       "Price        Date     Close      High       Low      Open   Volume\n",
       "Ticker             PENUSD=X  PENUSD=X  PENUSD=X  PENUSD=X PENUSD=X\n",
       "0      2004-08-11  0.303444  0.303444  0.303444  0.303444        0\n",
       "1      2004-08-12  0.303748  0.303748  0.303748  0.303748        0\n",
       "2      2004-08-13  0.303859  0.303859  0.302893  0.302893        0\n",
       "3      2004-08-16  0.303665  0.303665  0.303665  0.303665        0\n",
       "4      2004-08-17  0.303453  0.303453  0.303453  0.303453        0\n",
       "...           ...       ...       ...       ...       ...      ...\n",
       "5307   2024-12-23  0.275319  0.275388  0.273409  0.275319        0\n",
       "5308   2024-12-24  0.273409  0.274387  0.273816  0.273409        0\n",
       "5309   2024-12-25  0.274387  0.274652  0.274480  0.274387        0\n",
       "5310   2024-12-26  0.274387  0.274652  0.274480  0.274387        0\n",
       "5311   2024-12-27  0.274652  0.272801  0.272801  0.274652        0\n",
       "\n",
       "[5312 rows x 6 columns]"
      ]
     },
     "execution_count": 37,
     "metadata": {},
     "output_type": "execute_result"
    }
   ],
   "source": [
    "df_sol= pd.DataFrame(sol_value)\n",
    "\n",
    "df_sol.reset_index(inplace= True)\n",
    "\n",
    "df_sol"
   ]
  },
  {
   "cell_type": "code",
   "execution_count": 38,
   "id": "7f97b2be",
   "metadata": {},
   "outputs": [],
   "source": [
    "df_peru= df_sol[['Date', 'Close']]\n",
    "\n",
    "df_peru= df_peru.copy()\n",
    "\n",
    "df_peru.rename(columns={'Date':'Período analizado', 'Close':'Valor de conversión'}, inplace=True)\n",
    "\n",
    "# df_peru.to_csv('SolPeruano.csv', index=False, encoding='utf-8')"
   ]
  },
  {
   "cell_type": "code",
   "execution_count": 39,
   "id": "b8006b10",
   "metadata": {},
   "outputs": [
    {
     "data": {
      "image/png": "[encoded data removed]",
      "text/plain": [
       "<Figure size 640x480 with 1 Axes>"
      ]
     },
     "metadata": {},
     "output_type": "display_data"
    },
    {
     "name": "stdout",
     "output_type": "stream",
     "text": [
      "Tasa de conversión promedio del Sol Peruano durante el período analizado: 0.31774443697958554\n"
     ]
    }
   ],
   "source": [
    "sns.set_theme(style=\"whitegrid\")\n",
    "\n",
    "plt.plot(df_peru[\"Período analizado\"], df_peru[\"Valor de conversión\"])\n",
    "\n",
    "plt.title(\"Valor del Sol Peruano en USD\")\n",
    "\n",
    "plt.show()\n",
    "\n",
    "print(\"Tasa de conversión promedio del Sol Peruano durante el período analizado:\", np.mean(df_peru[\"Valor de conversión\"]))"
   ]
  },
  {
   "cell_type": "markdown",
   "id": "a81d209d",
   "metadata": {},
   "source": [
    "# Evolución de la tasa de conversión de monedas de Países que conforman el Bloque Económico (MERCOSUR)"
   ]
  },
  {
   "cell_type": "code",
   "execution_count": 40,
   "id": "bb3baa50",
   "metadata": {},
   "outputs": [
    {
     "ename": "ValueError",
     "evalue": "Mime type rendering requires nbformat>=4.2.0 but it is not installed",
     "output_type": "error",
     "traceback": [
      "\u001b[1;31m---------------------------------------------------------------------------\u001b[0m",
      "\u001b[1;31mValueError\u001b[0m                                Traceback (most recent call last)",
      "Cell \u001b[1;32mIn[40], line 28\u001b[0m\n\u001b[0;32m     24\u001b[0m fig\u001b[38;5;241m.\u001b[39mupdate_xaxes(showgrid\u001b[38;5;241m=\u001b[39m\u001b[38;5;28;01mTrue\u001b[39;00m, gridwidth\u001b[38;5;241m=\u001b[39m\u001b[38;5;241m1\u001b[39m, gridcolor\u001b[38;5;241m=\u001b[39m\u001b[38;5;124m'\u001b[39m\u001b[38;5;124m#999999\u001b[39m\u001b[38;5;124m'\u001b[39m)\n\u001b[0;32m     25\u001b[0m fig\u001b[38;5;241m.\u001b[39mupdate_yaxes(showgrid\u001b[38;5;241m=\u001b[39m\u001b[38;5;28;01mTrue\u001b[39;00m, gridwidth\u001b[38;5;241m=\u001b[39m\u001b[38;5;241m1\u001b[39m, gridcolor\u001b[38;5;241m=\u001b[39m\u001b[38;5;124m'\u001b[39m\u001b[38;5;124m#999999\u001b[39m\u001b[38;5;124m'\u001b[39m)\n\u001b[1;32m---> 28\u001b[0m \u001b[43mfig\u001b[49m\u001b[38;5;241;43m.\u001b[39;49m\u001b[43mshow\u001b[49m\u001b[43m(\u001b[49m\u001b[43m)\u001b[49m\n",
      "File \u001b[1;32mc:\\Users\\r_ger\\Documents\\Rendimiento-MonedasSudamericanas-vs-USD\\monedaspais\\lib\\site-packages\\plotly\\basedatatypes.py:3414\u001b[0m, in \u001b[0;36mBaseFigure.show\u001b[1;34m(self, *args, **kwargs)\u001b[0m\n\u001b[0;32m   3381\u001b[0m \u001b[38;5;250m\u001b[39m\u001b[38;5;124;03m\"\"\"\u001b[39;00m\n\u001b[0;32m   3382\u001b[0m \u001b[38;5;124;03mShow a figure using either the default renderer(s) or the renderer(s)\u001b[39;00m\n\u001b[0;32m   3383\u001b[0m \u001b[38;5;124;03mspecified by the renderer argument\u001b[39;00m\n\u001b[1;32m   (...)\u001b[0m\n\u001b[0;32m   3410\u001b[0m \u001b[38;5;124;03mNone\u001b[39;00m\n\u001b[0;32m   3411\u001b[0m \u001b[38;5;124;03m\"\"\"\u001b[39;00m\n\u001b[0;32m   3412\u001b[0m \u001b[38;5;28;01mimport\u001b[39;00m\u001b[38;5;250m \u001b[39m\u001b[38;5;21;01mplotly\u001b[39;00m\u001b[38;5;21;01m.\u001b[39;00m\u001b[38;5;21;01mio\u001b[39;00m\u001b[38;5;250m \u001b[39m\u001b[38;5;28;01mas\u001b[39;00m\u001b[38;5;250m \u001b[39m\u001b[38;5;21;01mpio\u001b[39;00m\n\u001b[1;32m-> 3414\u001b[0m \u001b[38;5;28;01mreturn\u001b[39;00m pio\u001b[38;5;241m.\u001b[39mshow(\u001b[38;5;28mself\u001b[39m, \u001b[38;5;241m*\u001b[39margs, \u001b[38;5;241m*\u001b[39m\u001b[38;5;241m*\u001b[39mkwargs)\n",
      "File \u001b[1;32mc:\\Users\\r_ger\\Documents\\Rendimiento-MonedasSudamericanas-vs-USD\\monedaspais\\lib\\site-packages\\plotly\\io\\_renderers.py:425\u001b[0m, in \u001b[0;36mshow\u001b[1;34m(fig, renderer, validate, **kwargs)\u001b[0m\n\u001b[0;32m    420\u001b[0m     \u001b[38;5;28;01mraise\u001b[39;00m \u001b[38;5;167;01mValueError\u001b[39;00m(\n\u001b[0;32m    421\u001b[0m         \u001b[38;5;124m\"\u001b[39m\u001b[38;5;124mMime type rendering requires ipython but it is not installed\u001b[39m\u001b[38;5;124m\"\u001b[39m\n\u001b[0;32m    422\u001b[0m     )\n\u001b[0;32m    424\u001b[0m \u001b[38;5;28;01mif\u001b[39;00m \u001b[38;5;129;01mnot\u001b[39;00m nbformat \u001b[38;5;129;01mor\u001b[39;00m Version(nbformat\u001b[38;5;241m.\u001b[39m__version__) \u001b[38;5;241m<\u001b[39m Version(\u001b[38;5;124m\"\u001b[39m\u001b[38;5;124m4.2.0\u001b[39m\u001b[38;5;124m\"\u001b[39m):\n\u001b[1;32m--> 425\u001b[0m     \u001b[38;5;28;01mraise\u001b[39;00m \u001b[38;5;167;01mValueError\u001b[39;00m(\n\u001b[0;32m    426\u001b[0m         \u001b[38;5;124m\"\u001b[39m\u001b[38;5;124mMime type rendering requires nbformat>=4.2.0 but it is not installed\u001b[39m\u001b[38;5;124m\"\u001b[39m\n\u001b[0;32m    427\u001b[0m     )\n\u001b[0;32m    429\u001b[0m display_jupyter_version_warnings()\n\u001b[0;32m    431\u001b[0m ipython_display\u001b[38;5;241m.\u001b[39mdisplay(bundle, raw\u001b[38;5;241m=\u001b[39m\u001b[38;5;28;01mTrue\u001b[39;00m)\n",
      "\u001b[1;31mValueError\u001b[0m: Mime type rendering requires nbformat>=4.2.0 but it is not installed"
     ]
    }
   ],
   "source": [
    "fig= go.Figure()\n",
    "\n",
    "fig.add_trace(go.Scatter(x=df_argentina['Período analizado'], y=df_argentina['Valor de conversión'], name='Peso Argentino'))\n",
    "fig.add_trace(go.Scatter(x=df_brasil['Período analizado'], y=df_brasil['Valor de conversión'], name='Real Brasileño'))\n",
    "fig.add_trace(go.Scatter(x=df_paraguay['Período analizado'], y=df_paraguay['Valor de conversión'], name='Guaraní Paraguay'))\n",
    "fig.add_trace(go.Scatter(x=df_uruguay['Período analizado'], y=df_uruguay['Valor de conversión'], name='Peso Uruguayo'))\n",
    "\n",
    "fig.update_layout(title='Evolución en la tasa de conversión entre los Países que conforman el bloque económico (MERCOSUR)',\n",
    "                   xaxis_title='Período analizado',\n",
    "                   yaxis_title='Valor de conversión (USD)',\n",
    "                   plot_bgcolor='white',                    \n",
    "                 )\n",
    "\n",
    "fig.add_annotation(\n",
    "    text=\"www.desarrolladorsarmientino.com\",\n",
    "    xref=\"paper\",\n",
    "    yref=\"paper\",\n",
    "    x=0.5, \n",
    "    y=-0.24, \n",
    "    showarrow=False,\n",
    "    font=dict(size=12)\n",
    ")\n",
    "\n",
    "fig.update_xaxes(showgrid=True, gridwidth=1, gridcolor='#999999')\n",
    "fig.update_yaxes(showgrid=True, gridwidth=1, gridcolor='#999999')\n",
    "\n",
    "\n",
    "fig.show()"
   ]
  }
 ],
 "metadata": {
  "kernelspec": {
   "display_name": "monedaspais",
   "language": "python",
   "name": "python3"
  },
  "language_info": {
   "codemirror_mode": {
    "name": "ipython",
    "version": 3
   },
   "file_extension": ".py",
   "mimetype": "text/x-python",
   "name": "python",
   "nbconvert_exporter": "python",
   "pygments_lexer": "ipython3",
   "version": "3.10.9"
  }
 },
 "nbformat": 4,
 "nbformat_minor": 5
}
